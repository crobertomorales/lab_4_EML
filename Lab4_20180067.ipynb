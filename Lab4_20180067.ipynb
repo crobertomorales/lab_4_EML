{
 "cells": [
  {
   "cell_type": "code",
   "execution_count": 248,
   "id": "comparative-brief",
   "metadata": {},
   "outputs": [],
   "source": [
    "import pandas as pd\n",
    "import numpy as np\n",
    "import matplotlib.pyplot as plt"
   ]
  },
  {
   "cell_type": "code",
   "execution_count": 249,
   "id": "roman-documentary",
   "metadata": {},
   "outputs": [
    {
     "data": {
      "text/html": [
       "<div>\n",
       "<style scoped>\n",
       "    .dataframe tbody tr th:only-of-type {\n",
       "        vertical-align: middle;\n",
       "    }\n",
       "\n",
       "    .dataframe tbody tr th {\n",
       "        vertical-align: top;\n",
       "    }\n",
       "\n",
       "    .dataframe thead th {\n",
       "        text-align: right;\n",
       "    }\n",
       "</style>\n",
       "<table border=\"1\" class=\"dataframe\">\n",
       "  <thead>\n",
       "    <tr style=\"text-align: right;\">\n",
       "      <th></th>\n",
       "      <th>id</th>\n",
       "      <th>date</th>\n",
       "      <th>price</th>\n",
       "      <th>bedrooms</th>\n",
       "      <th>bathrooms</th>\n",
       "      <th>sqft_living</th>\n",
       "      <th>sqft_lot</th>\n",
       "      <th>floors</th>\n",
       "      <th>waterfront</th>\n",
       "      <th>view</th>\n",
       "      <th>...</th>\n",
       "      <th>grade</th>\n",
       "      <th>sqft_above</th>\n",
       "      <th>sqft_basement</th>\n",
       "      <th>yr_built</th>\n",
       "      <th>yr_renovated</th>\n",
       "      <th>zipcode</th>\n",
       "      <th>lat</th>\n",
       "      <th>long</th>\n",
       "      <th>sqft_living15</th>\n",
       "      <th>sqft_lot15</th>\n",
       "    </tr>\n",
       "  </thead>\n",
       "  <tbody>\n",
       "    <tr>\n",
       "      <th>0</th>\n",
       "      <td>7129300520</td>\n",
       "      <td>20141013T000000</td>\n",
       "      <td>221900.0</td>\n",
       "      <td>3</td>\n",
       "      <td>1.00</td>\n",
       "      <td>1180</td>\n",
       "      <td>5650</td>\n",
       "      <td>1.0</td>\n",
       "      <td>0</td>\n",
       "      <td>0</td>\n",
       "      <td>...</td>\n",
       "      <td>7</td>\n",
       "      <td>1180</td>\n",
       "      <td>0</td>\n",
       "      <td>1955</td>\n",
       "      <td>0</td>\n",
       "      <td>98178</td>\n",
       "      <td>47.5112</td>\n",
       "      <td>-122.257</td>\n",
       "      <td>1340</td>\n",
       "      <td>5650</td>\n",
       "    </tr>\n",
       "    <tr>\n",
       "      <th>1</th>\n",
       "      <td>6414100192</td>\n",
       "      <td>20141209T000000</td>\n",
       "      <td>538000.0</td>\n",
       "      <td>3</td>\n",
       "      <td>2.25</td>\n",
       "      <td>2570</td>\n",
       "      <td>7242</td>\n",
       "      <td>2.0</td>\n",
       "      <td>0</td>\n",
       "      <td>0</td>\n",
       "      <td>...</td>\n",
       "      <td>7</td>\n",
       "      <td>2170</td>\n",
       "      <td>400</td>\n",
       "      <td>1951</td>\n",
       "      <td>1991</td>\n",
       "      <td>98125</td>\n",
       "      <td>47.7210</td>\n",
       "      <td>-122.319</td>\n",
       "      <td>1690</td>\n",
       "      <td>7639</td>\n",
       "    </tr>\n",
       "    <tr>\n",
       "      <th>2</th>\n",
       "      <td>5631500400</td>\n",
       "      <td>20150225T000000</td>\n",
       "      <td>180000.0</td>\n",
       "      <td>2</td>\n",
       "      <td>1.00</td>\n",
       "      <td>770</td>\n",
       "      <td>10000</td>\n",
       "      <td>1.0</td>\n",
       "      <td>0</td>\n",
       "      <td>0</td>\n",
       "      <td>...</td>\n",
       "      <td>6</td>\n",
       "      <td>770</td>\n",
       "      <td>0</td>\n",
       "      <td>1933</td>\n",
       "      <td>0</td>\n",
       "      <td>98028</td>\n",
       "      <td>47.7379</td>\n",
       "      <td>-122.233</td>\n",
       "      <td>2720</td>\n",
       "      <td>8062</td>\n",
       "    </tr>\n",
       "    <tr>\n",
       "      <th>3</th>\n",
       "      <td>2487200875</td>\n",
       "      <td>20141209T000000</td>\n",
       "      <td>604000.0</td>\n",
       "      <td>4</td>\n",
       "      <td>3.00</td>\n",
       "      <td>1960</td>\n",
       "      <td>5000</td>\n",
       "      <td>1.0</td>\n",
       "      <td>0</td>\n",
       "      <td>0</td>\n",
       "      <td>...</td>\n",
       "      <td>7</td>\n",
       "      <td>1050</td>\n",
       "      <td>910</td>\n",
       "      <td>1965</td>\n",
       "      <td>0</td>\n",
       "      <td>98136</td>\n",
       "      <td>47.5208</td>\n",
       "      <td>-122.393</td>\n",
       "      <td>1360</td>\n",
       "      <td>5000</td>\n",
       "    </tr>\n",
       "    <tr>\n",
       "      <th>4</th>\n",
       "      <td>1954400510</td>\n",
       "      <td>20150218T000000</td>\n",
       "      <td>510000.0</td>\n",
       "      <td>3</td>\n",
       "      <td>2.00</td>\n",
       "      <td>1680</td>\n",
       "      <td>8080</td>\n",
       "      <td>1.0</td>\n",
       "      <td>0</td>\n",
       "      <td>0</td>\n",
       "      <td>...</td>\n",
       "      <td>8</td>\n",
       "      <td>1680</td>\n",
       "      <td>0</td>\n",
       "      <td>1987</td>\n",
       "      <td>0</td>\n",
       "      <td>98074</td>\n",
       "      <td>47.6168</td>\n",
       "      <td>-122.045</td>\n",
       "      <td>1800</td>\n",
       "      <td>7503</td>\n",
       "    </tr>\n",
       "  </tbody>\n",
       "</table>\n",
       "<p>5 rows × 21 columns</p>\n",
       "</div>"
      ],
      "text/plain": [
       "           id             date     price  bedrooms  bathrooms  sqft_living  \\\n",
       "0  7129300520  20141013T000000  221900.0         3       1.00         1180   \n",
       "1  6414100192  20141209T000000  538000.0         3       2.25         2570   \n",
       "2  5631500400  20150225T000000  180000.0         2       1.00          770   \n",
       "3  2487200875  20141209T000000  604000.0         4       3.00         1960   \n",
       "4  1954400510  20150218T000000  510000.0         3       2.00         1680   \n",
       "\n",
       "   sqft_lot  floors  waterfront  view  ...  grade  sqft_above  sqft_basement  \\\n",
       "0      5650     1.0           0     0  ...      7        1180              0   \n",
       "1      7242     2.0           0     0  ...      7        2170            400   \n",
       "2     10000     1.0           0     0  ...      6         770              0   \n",
       "3      5000     1.0           0     0  ...      7        1050            910   \n",
       "4      8080     1.0           0     0  ...      8        1680              0   \n",
       "\n",
       "   yr_built  yr_renovated  zipcode      lat     long  sqft_living15  \\\n",
       "0      1955             0    98178  47.5112 -122.257           1340   \n",
       "1      1951          1991    98125  47.7210 -122.319           1690   \n",
       "2      1933             0    98028  47.7379 -122.233           2720   \n",
       "3      1965             0    98136  47.5208 -122.393           1360   \n",
       "4      1987             0    98074  47.6168 -122.045           1800   \n",
       "\n",
       "   sqft_lot15  \n",
       "0        5650  \n",
       "1        7639  \n",
       "2        8062  \n",
       "3        5000  \n",
       "4        7503  \n",
       "\n",
       "[5 rows x 21 columns]"
      ]
     },
     "execution_count": 249,
     "metadata": {},
     "output_type": "execute_result"
    }
   ],
   "source": [
    "data = pd.read_csv('kc_house_data.csv')\n",
    "data.head(5)"
   ]
  },
  {
   "cell_type": "code",
   "execution_count": 250,
   "id": "turned-variance",
   "metadata": {},
   "outputs": [],
   "source": [
    "data = data.assign(v_1 = 1)"
   ]
  },
  {
   "cell_type": "code",
   "execution_count": 251,
   "id": "immune-submission",
   "metadata": {},
   "outputs": [],
   "source": [
    "data['sqft_living2'] = data['sqft_living'] ** 2\n",
    "data['sqft_living3'] = data['sqft_living'] ** 3\n",
    "data['sqft_living4'] = data['sqft_living'] ** 4"
   ]
  },
  {
   "cell_type": "code",
   "execution_count": 252,
   "id": "exceptional-scenario",
   "metadata": {},
   "outputs": [
    {
     "name": "stdout",
     "output_type": "stream",
     "text": [
      "(21613, 1)\n",
      "(21613, 5)\n"
     ]
    }
   ],
   "source": [
    "y = data[['price']].to_numpy()\n",
    "X = data[['v_1','sqft_living','sqft_living2','sqft_living3','sqft_living4']].to_numpy()\n",
    "print(y.shape)\n",
    "print(X.shape)"
   ]
  },
  {
   "cell_type": "code",
   "execution_count": 253,
   "id": "rocky-wellington",
   "metadata": {},
   "outputs": [
    {
     "data": {
      "text/plain": [
       "17289.6"
      ]
     },
     "execution_count": 253,
     "metadata": {},
     "output_type": "execute_result"
    }
   ],
   "source": [
    "21613*0.6\n",
    "12967+(21613*0.2)"
   ]
  },
  {
   "cell_type": "code",
   "execution_count": 254,
   "id": "accepted-summary",
   "metadata": {},
   "outputs": [],
   "source": [
    "np.random.shuffle(X)\n",
    "np.random.shuffle(y)\n",
    "X_train = X[:12967]\n",
    "y_train = y[:12967]\n",
    "X_cv = X[12967:17289]\n",
    "y_cv = y[12967:17289]\n",
    "X_test = X[17290:21613]\n",
    "X_test = y[17290:21613]"
   ]
  },
  {
   "cell_type": "code",
   "execution_count": 255,
   "id": "driven-heart",
   "metadata": {},
   "outputs": [],
   "source": [
    "def linear_cost(X, y, theta): \n",
    "    h = X @ theta\n",
    "    return ((y-h)**2).sum() / (2 * len(X))\n",
    "\n",
    "def linear_cost_gradient(X, y, theta): \n",
    "    h = X @ theta\n",
    "    return (X.T @ (h-y))/ len(X)"
   ]
  },
  {
   "cell_type": "code",
   "execution_count": 256,
   "id": "hollow-compensation",
   "metadata": {},
   "outputs": [],
   "source": [
    "m, n = X_train.shape"
   ]
  },
  {
   "cell_type": "code",
   "execution_count": 257,
   "id": "miniature-mistress",
   "metadata": {},
   "outputs": [
    {
     "name": "stdout",
     "output_type": "stream",
     "text": [
      "(5, 1)\n"
     ]
    }
   ],
   "source": [
    "theta_0 = np.random.rand(n,1)\n",
    "print(theta_0.shape)"
   ]
  },
  {
   "cell_type": "code",
   "execution_count": 258,
   "id": "inclusive-denial",
   "metadata": {},
   "outputs": [],
   "source": [
    "def gradient_descent(\n",
    "X,y,theta_0,linear_cost,linear_cost_gradient,\n",
    "    learning_rate = 0.0000000000000000000000000000001, threshold = 0.0001, max_iter=10000):\n",
    "    thetas = theta_0\n",
    "    iteration = 0 \n",
    "    costs = []\n",
    "    \n",
    "    while np.linalg.norm(linear_cost_gradient(X,y,thetas)) > threshold and iteration < max_iter:\n",
    "        iteration += 1 \n",
    "        thetas = thetas - (learning_rate * linear_cost_gradient(X,y,thetas))\n",
    "        costs.append(linear_cost(X,y,thetas))\n",
    "        \n",
    "    return thetas, costs"
   ]
  },
  {
   "cell_type": "code",
   "execution_count": 259,
   "id": "junior-president",
   "metadata": {},
   "outputs": [],
   "source": [
    "thetas, costs = gradient_descent(X_train,y_train,theta_0,linear_cost,linear_cost_gradient)"
   ]
  },
  {
   "cell_type": "code",
   "execution_count": 260,
   "id": "suffering-trinidad",
   "metadata": {},
   "outputs": [
    {
     "data": {
      "text/plain": [
       "array([[ 3.22717830e-01],\n",
       "       [ 3.37236395e-01],\n",
       "       [ 2.52949438e-01],\n",
       "       [ 4.46471934e-01],\n",
       "       [-4.44344401e-05]])"
      ]
     },
     "execution_count": 260,
     "metadata": {},
     "output_type": "execute_result"
    }
   ],
   "source": [
    "thetas"
   ]
  },
  {
   "cell_type": "code",
   "execution_count": 261,
   "id": "academic-national",
   "metadata": {},
   "outputs": [
    {
     "data": {
      "text/plain": [
       "[<matplotlib.lines.Line2D at 0x28e215a6730>]"
      ]
     },
     "execution_count": 261,
     "metadata": {},
     "output_type": "execute_result"
    },
    {
     "data": {
      "image/png": "[encoded data removed]",
      "text/plain": [
       "<Figure size 432x288 with 1 Axes>"
      ]
     },
     "metadata": {
      "needs_background": "light"
     },
     "output_type": "display_data"
    }
   ],
   "source": [
    "plt.plot(costs)"
   ]
  },
  {
   "cell_type": "code",
   "execution_count": 262,
   "id": "educated-serbia",
   "metadata": {},
   "outputs": [
    {
     "data": {
      "text/plain": [
       "3.1019186782453567e+19"
      ]
     },
     "execution_count": 262,
     "metadata": {},
     "output_type": "execute_result"
    }
   ],
   "source": [
    "min(costs)"
   ]
  },
  {
   "cell_type": "code",
   "execution_count": 263,
   "id": "incorrect-indian",
   "metadata": {},
   "outputs": [
    {
     "name": "stdout",
     "output_type": "stream",
     "text": [
      "(21613, 1)\n",
      "(21613, 4)\n"
     ]
    }
   ],
   "source": [
    "y = data[['price']].to_numpy()\n",
    "X = data[['v_1','sqft_living','sqft_living2','sqft_living3']].to_numpy()\n",
    "print(y.shape)\n",
    "print(X.shape)"
   ]
  },
  {
   "cell_type": "code",
   "execution_count": 264,
   "id": "bright-ability",
   "metadata": {},
   "outputs": [
    {
     "data": {
      "text/plain": [
       "17289.6"
      ]
     },
     "execution_count": 264,
     "metadata": {},
     "output_type": "execute_result"
    }
   ],
   "source": [
    "21613*0.6\n",
    "12967+(21613*0.2)"
   ]
  },
  {
   "cell_type": "code",
   "execution_count": 265,
   "id": "worse-laugh",
   "metadata": {},
   "outputs": [],
   "source": [
    "np.random.shuffle(X)\n",
    "np.random.shuffle(y)\n",
    "X_train = X[:12967]\n",
    "y_train = y[:12967]\n",
    "X_cv = X[12967:17289]\n",
    "y_cv = y[12967:17289]\n",
    "X_test = X[17290:21613]\n",
    "X_test = y[17290:21613]"
   ]
  },
  {
   "cell_type": "code",
   "execution_count": 266,
   "id": "functional-saskatchewan",
   "metadata": {},
   "outputs": [
    {
     "data": {
      "text/plain": [
       "array([[         1,       2020,    4080400, 8242408000]], dtype=int64)"
      ]
     },
     "execution_count": 266,
     "metadata": {},
     "output_type": "execute_result"
    }
   ],
   "source": [
    "X_train[[8]]"
   ]
  },
  {
   "cell_type": "code",
   "execution_count": 267,
   "id": "ranging-century",
   "metadata": {},
   "outputs": [],
   "source": [
    "def linear_cost(X, y, theta): \n",
    "    h = X @ theta\n",
    "    return ((y-h)**2).sum() / (2 * len(X))\n",
    "\n",
    "def linear_cost_gradient(X, y, theta): \n",
    "    h = X @ theta\n",
    "    return (X.T @ (h-y))/ len(X)"
   ]
  },
  {
   "cell_type": "code",
   "execution_count": 268,
   "id": "opponent-convergence",
   "metadata": {},
   "outputs": [],
   "source": [
    "m, n = X_train.shape"
   ]
  },
  {
   "cell_type": "code",
   "execution_count": 269,
   "id": "satellite-central",
   "metadata": {},
   "outputs": [
    {
     "name": "stdout",
     "output_type": "stream",
     "text": [
      "(4, 1)\n"
     ]
    }
   ],
   "source": [
    "theta_0 = np.random.rand(n,1)\n",
    "print(theta_0.shape)"
   ]
  },
  {
   "cell_type": "code",
   "execution_count": 270,
   "id": "restricted-parish",
   "metadata": {},
   "outputs": [],
   "source": [
    "def gradient_descent(\n",
    "X,y,theta_0,linear_cost,linear_cost_gradient,\n",
    "    learning_rate = 0.000000000000000000001, threshold = 0.0001, max_iter=10000):\n",
    "\n",
    "    thetas = theta_0\n",
    "    iteration = 0 \n",
    "    costs = []\n",
    "    \n",
    "    while np.linalg.norm(linear_cost_gradient(X,y,thetas)) > threshold and iteration < max_iter:\n",
    "        iteration += 1 \n",
    "        thetas = thetas - (learning_rate * linear_cost_gradient(X,y,thetas))\n",
    "        costs.append(linear_cost(X,y,thetas))\n",
    "        \n",
    "    return thetas, costs"
   ]
  },
  {
   "cell_type": "code",
   "execution_count": 271,
   "id": "confirmed-humidity",
   "metadata": {},
   "outputs": [],
   "source": [
    "thetas, costs = gradient_descent(X_train,y_train,theta_0,linear_cost,linear_cost_gradient)"
   ]
  },
  {
   "cell_type": "code",
   "execution_count": 272,
   "id": "varying-thriller",
   "metadata": {},
   "outputs": [
    {
     "data": {
      "text/plain": [
       "array([[ 9.85534307e-01],\n",
       "       [ 4.23022564e-01],\n",
       "       [ 6.91451996e-01],\n",
       "       [-1.31128103e-04]])"
      ]
     },
     "execution_count": 272,
     "metadata": {},
     "output_type": "execute_result"
    }
   ],
   "source": [
    "thetas"
   ]
  },
  {
   "cell_type": "code",
   "execution_count": 273,
   "id": "piano-report",
   "metadata": {},
   "outputs": [
    {
     "data": {
      "text/plain": [
       "[<matplotlib.lines.Line2D at 0x28e21607cd0>]"
      ]
     },
     "execution_count": 273,
     "metadata": {},
     "output_type": "execute_result"
    },
    {
     "data": {
      "image/png": "[encoded data removed]",
      "text/plain": [
       "<Figure size 432x288 with 1 Axes>"
      ]
     },
     "metadata": {
      "needs_background": "light"
     },
     "output_type": "display_data"
    }
   ],
   "source": [
    "plt.plot(costs)"
   ]
  },
  {
   "cell_type": "code",
   "execution_count": 274,
   "id": "extraordinary-gardening",
   "metadata": {},
   "outputs": [
    {
     "data": {
      "text/plain": [
       "1431169996768.9094"
      ]
     },
     "execution_count": 274,
     "metadata": {},
     "output_type": "execute_result"
    }
   ],
   "source": [
    "min(costs)"
   ]
  },
  {
   "cell_type": "code",
   "execution_count": 275,
   "id": "north-society",
   "metadata": {},
   "outputs": [
    {
     "name": "stdout",
     "output_type": "stream",
     "text": [
      "(21613, 1)\n",
      "(21613, 3)\n"
     ]
    }
   ],
   "source": [
    "y = data[['price']].to_numpy()\n",
    "X = data[['v_1','sqft_living','sqft_living2']].to_numpy()\n",
    "print(y.shape)\n",
    "print(X.shape)"
   ]
  },
  {
   "cell_type": "code",
   "execution_count": 276,
   "id": "cooked-valve",
   "metadata": {},
   "outputs": [
    {
     "data": {
      "text/plain": [
       "17289.6"
      ]
     },
     "execution_count": 276,
     "metadata": {},
     "output_type": "execute_result"
    }
   ],
   "source": [
    "21613*0.6\n",
    "12967+(21613*0.2)"
   ]
  },
  {
   "cell_type": "code",
   "execution_count": 277,
   "id": "official-champagne",
   "metadata": {},
   "outputs": [],
   "source": [
    "np.random.shuffle(X)\n",
    "np.random.shuffle(y)\n",
    "X_train = X[:12967]\n",
    "y_train = y[:12967]\n",
    "X_cv = X[12967:17289]\n",
    "y_cv = y[12967:17289]\n",
    "X_test = X[17290:21613]\n",
    "X_test = y[17290:21613]"
   ]
  },
  {
   "cell_type": "code",
   "execution_count": 278,
   "id": "arctic-explosion",
   "metadata": {},
   "outputs": [
    {
     "data": {
      "text/plain": [
       "array([[      1,    1780, 3168400]], dtype=int64)"
      ]
     },
     "execution_count": 278,
     "metadata": {},
     "output_type": "execute_result"
    }
   ],
   "source": [
    "X_train[[8]]"
   ]
  },
  {
   "cell_type": "code",
   "execution_count": 279,
   "id": "naughty-hudson",
   "metadata": {},
   "outputs": [],
   "source": [
    "def linear_cost(X, y, theta): \n",
    "    h = X @ theta\n",
    "    return ((y-h)**2).sum() / (2 * len(X))\n",
    "\n",
    "def linear_cost_gradient(X, y, theta): \n",
    "    h = X @ theta\n",
    "    return (X.T @ (h-y))/ len(X)"
   ]
  },
  {
   "cell_type": "code",
   "execution_count": 280,
   "id": "flexible-bennett",
   "metadata": {},
   "outputs": [],
   "source": [
    "m, n = X_train.shape"
   ]
  },
  {
   "cell_type": "code",
   "execution_count": 281,
   "id": "statutory-activity",
   "metadata": {},
   "outputs": [
    {
     "name": "stdout",
     "output_type": "stream",
     "text": [
      "(3, 1)\n"
     ]
    }
   ],
   "source": [
    "theta_0 = np.random.rand(n,1)\n",
    "print(theta_0.shape)"
   ]
  },
  {
   "cell_type": "code",
   "execution_count": 282,
   "id": "dental-seeker",
   "metadata": {},
   "outputs": [],
   "source": [
    "def gradient_descent(\n",
    "X,y,theta_0,linear_cost,linear_cost_gradient,\n",
    "    learning_rate = 0.00000000000001, threshold = 0.0001, max_iter=10000):\n",
    "\n",
    "    thetas = theta_0\n",
    "    iteration = 0 \n",
    "    costs = []\n",
    "    \n",
    "    while np.linalg.norm(linear_cost_gradient(X,y,thetas)) > threshold and iteration < max_iter:\n",
    "        iteration += 1 \n",
    "        thetas = thetas - (learning_rate * linear_cost_gradient(X,y,thetas))\n",
    "        costs.append(linear_cost(X,y,thetas))\n",
    "        \n",
    "    return thetas, costs"
   ]
  },
  {
   "cell_type": "code",
   "execution_count": 283,
   "id": "stone-benjamin",
   "metadata": {},
   "outputs": [],
   "source": [
    "thetas, costs = gradient_descent(X_train,y_train,theta_0,linear_cost,linear_cost_gradient)"
   ]
  },
  {
   "cell_type": "code",
   "execution_count": 284,
   "id": "dutch-liberty",
   "metadata": {},
   "outputs": [
    {
     "data": {
      "text/plain": [
       "array([[0.27564888],\n",
       "       [0.8854973 ],\n",
       "       [0.05090749]])"
      ]
     },
     "execution_count": 284,
     "metadata": {},
     "output_type": "execute_result"
    }
   ],
   "source": [
    "thetas"
   ]
  },
  {
   "cell_type": "code",
   "execution_count": 285,
   "id": "interesting-software",
   "metadata": {},
   "outputs": [
    {
     "data": {
      "text/plain": [
       "[<matplotlib.lines.Line2D at 0x28e21251970>]"
      ]
     },
     "execution_count": 285,
     "metadata": {},
     "output_type": "execute_result"
    },
    {
     "data": {
      "image/png": "[encoded data removed]",
      "text/plain": [
       "<Figure size 432x288 with 1 Axes>"
      ]
     },
     "metadata": {
      "needs_background": "light"
     },
     "output_type": "display_data"
    }
   ],
   "source": [
    "plt.plot(costs)"
   ]
  },
  {
   "cell_type": "code",
   "execution_count": 286,
   "id": "polar-guess",
   "metadata": {},
   "outputs": [
    {
     "data": {
      "text/plain": [
       "144949757159.81592"
      ]
     },
     "execution_count": 286,
     "metadata": {},
     "output_type": "execute_result"
    }
   ],
   "source": [
    "min(costs)"
   ]
  },
  {
   "cell_type": "code",
   "execution_count": 287,
   "id": "superior-poverty",
   "metadata": {},
   "outputs": [
    {
     "name": "stdout",
     "output_type": "stream",
     "text": [
      "(21613, 1)\n",
      "(21613, 2)\n"
     ]
    }
   ],
   "source": [
    "y = data[['price']].to_numpy()\n",
    "X = data[['v_1','sqft_living']].to_numpy()\n",
    "print(y.shape)\n",
    "print(X.shape)"
   ]
  },
  {
   "cell_type": "code",
   "execution_count": 288,
   "id": "liquid-sender",
   "metadata": {},
   "outputs": [
    {
     "data": {
      "text/plain": [
       "17289.6"
      ]
     },
     "execution_count": 288,
     "metadata": {},
     "output_type": "execute_result"
    }
   ],
   "source": [
    "21613*0.6\n",
    "12967+(21613*0.2)"
   ]
  },
  {
   "cell_type": "code",
   "execution_count": 289,
   "id": "egyptian-beast",
   "metadata": {},
   "outputs": [],
   "source": [
    "np.random.shuffle(X)\n",
    "np.random.shuffle(y)\n",
    "X_train = X[:12967]\n",
    "y_train = y[:12967]\n",
    "X_cv = X[12967:17289]\n",
    "y_cv = y[12967:17289]\n",
    "X_test = X[17290:21613]\n",
    "X_test = y[17290:21613]"
   ]
  },
  {
   "cell_type": "code",
   "execution_count": 290,
   "id": "central-basis",
   "metadata": {},
   "outputs": [
    {
     "data": {
      "text/plain": [
       "array([[   1, 2210]], dtype=int64)"
      ]
     },
     "execution_count": 290,
     "metadata": {},
     "output_type": "execute_result"
    }
   ],
   "source": [
    "X_train[[8]]"
   ]
  },
  {
   "cell_type": "code",
   "execution_count": 291,
   "id": "incoming-berkeley",
   "metadata": {},
   "outputs": [],
   "source": [
    "def linear_cost(X, y, theta): \n",
    "    h = X @ theta\n",
    "    return ((y-h)**2).sum() / (2 * len(X))\n",
    "\n",
    "def linear_cost_gradient(X, y, theta): \n",
    "    h = X @ theta\n",
    "    return (X.T @ (h-y))/ len(X)"
   ]
  },
  {
   "cell_type": "code",
   "execution_count": 292,
   "id": "designed-irrigation",
   "metadata": {},
   "outputs": [],
   "source": [
    "m, n = X_train.shape"
   ]
  },
  {
   "cell_type": "code",
   "execution_count": 293,
   "id": "choice-electric",
   "metadata": {},
   "outputs": [
    {
     "name": "stdout",
     "output_type": "stream",
     "text": [
      "(2, 1)\n"
     ]
    }
   ],
   "source": [
    "theta_0 = np.random.rand(n,1)\n",
    "print(theta_0.shape)"
   ]
  },
  {
   "cell_type": "code",
   "execution_count": 294,
   "id": "motivated-witch",
   "metadata": {},
   "outputs": [],
   "source": [
    "def gradient_descent(\n",
    "X,y,theta_0,linear_cost,linear_cost_gradient,\n",
    "    learning_rate = 0.00000000001, threshold = 0.0001, max_iter=10000):\n",
    "\n",
    "    thetas = theta_0\n",
    "    iteration = 0 \n",
    "    costs = []\n",
    "    \n",
    "    while np.linalg.norm(linear_cost_gradient(X,y,thetas)) > threshold and iteration < max_iter:\n",
    "        iteration += 1 \n",
    "        thetas = thetas - (learning_rate * linear_cost_gradient(X,y,thetas))\n",
    "        costs.append(linear_cost(X,y,thetas))\n",
    "        \n",
    "    return thetas, costs"
   ]
  },
  {
   "cell_type": "code",
   "execution_count": 295,
   "id": "visible-anchor",
   "metadata": {},
   "outputs": [],
   "source": [
    "thetas, costs = gradient_descent(X_train,y_train,theta_0,linear_cost,linear_cost_gradient)"
   ]
  },
  {
   "cell_type": "code",
   "execution_count": 296,
   "id": "limited-treasure",
   "metadata": {},
   "outputs": [
    {
     "data": {
      "text/plain": [
       "array([[ 0.11173144],\n",
       "       [87.40512727]])"
      ]
     },
     "execution_count": 296,
     "metadata": {},
     "output_type": "execute_result"
    }
   ],
   "source": [
    "thetas"
   ]
  },
  {
   "cell_type": "code",
   "execution_count": 297,
   "id": "looking-doctrine",
   "metadata": {},
   "outputs": [
    {
     "data": {
      "text/plain": [
       "[<matplotlib.lines.Line2D at 0x28e21247610>]"
      ]
     },
     "execution_count": 297,
     "metadata": {},
     "output_type": "execute_result"
    },
    {
     "data": {
      "image/png": "[encoded data removed]",
      "text/plain": [
       "<Figure size 432x288 with 1 Axes>"
      ]
     },
     "metadata": {
      "needs_background": "light"
     },
     "output_type": "display_data"
    }
   ],
   "source": [
    "plt.plot(costs)"
   ]
  },
  {
   "cell_type": "code",
   "execution_count": 298,
   "id": "forty-gateway",
   "metadata": {},
   "outputs": [
    {
     "data": {
      "text/plain": [
       "133523434950.11452"
      ]
     },
     "execution_count": 298,
     "metadata": {},
     "output_type": "execute_result"
    }
   ],
   "source": [
    "min(costs)"
   ]
  },
  {
   "cell_type": "markdown",
   "id": "patent-spirit",
   "metadata": {},
   "source": [
    "# Conclusion"
   ]
  },
  {
   "cell_type": "markdown",
   "id": "relevant-possible",
   "metadata": {},
   "source": [
    "### Se recomienda utilizar un polinomio grado 4 para esta regrersión, debdio a que su error alcanzado es muchisimo menor que en el resto de modelos"
   ]
  }
 ],
 "metadata": {
  "kernelspec": {
   "display_name": "Python 3",
   "language": "python",
   "name": "python3"
  },
  "language_info": {
   "codemirror_mode": {
    "name": "ipython",
    "version": 3
   },
   "file_extension": ".py",
   "mimetype": "text/x-python",
   "name": "python",
   "nbconvert_exporter": "python",
   "pygments_lexer": "ipython3",
   "version": "3.9.1"
  }
 },
 "nbformat": 4,
 "nbformat_minor": 5
}
